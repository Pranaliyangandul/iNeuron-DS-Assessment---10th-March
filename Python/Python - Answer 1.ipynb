{
 "cells": [
  {
   "cell_type": "code",
   "execution_count": 2,
   "id": "8b264c97-7031-4b1f-9a0b-e77179151f0e",
   "metadata": {},
   "outputs": [],
   "source": [
    "input_dict = {\"abc\":{\"def\":{\"ghi\":{\"jkl\":{\"mno\":{\"pqr\":{\"stu\":{\"vwx\":{\"yz\":\"you are finally here !!!\"}}}}}}}}}"
   ]
  },
  {
   "cell_type": "code",
   "execution_count": 15,
   "id": "128784cb-28a9-4707-9e91-45bda7cefd9d",
   "metadata": {},
   "outputs": [
    {
     "name": "stdout",
     "output_type": "stream",
     "text": [
      "{'abc': ['def', 'ghi', 'jkl', 'mno', 'pqr', 'stu', 'vwx', 'yz'], 'def': ['ghi', 'jkl', 'mno', 'pqr', 'stu', 'vwx', 'yz'], 'ghi': ['jkl', 'mno', 'pqr', 'stu', 'vwx', 'yz'], 'jkl': ['mno', 'pqr', 'stu', 'vwx', 'yz'], 'mno': ['pqr', 'stu', 'vwx', 'yz'], 'pqr': ['stu', 'vwx', 'yz'], 'stu': ['vwx', 'yz'], 'vwx': ['yz'], 'yz': 'you are finally here !!!'}\n"
     ]
    }
   ],
   "source": [
    "\n",
    "def flatten_dict(input_dict, path=[]):\n",
    "    output = {}\n",
    "    for key, value in input_dict.items():\n",
    "        new_path = path + [key]\n",
    "        if isinstance(value, dict):\n",
    "            sub_output = flatten_dict(value, new_path)\n",
    "            output[key] = list(sub_output.keys())\n",
    "            output.update(sub_output)\n",
    "        else:\n",
    "            output[key] = value\n",
    "    return output\n",
    "\n",
    "# Test the function with the provided input\n",
    "input_dict = {\"abc\":{\"def\":{\"ghi\":{\"jkl\":{\"mno\":{\"pqr\":{\"stu\":{\"vwx\":{\"yz\":\"you are finally here !!!\"}}}}}}}}}\n",
    "output = flatten_dict(input_dict)\n",
    "print(output)"
   ]
  },
  {
   "cell_type": "code",
   "execution_count": 17,
   "id": "1d9ae702-c060-4ca1-ab91-82cb6a33bbfb",
   "metadata": {},
   "outputs": [
    {
     "name": "stdout",
     "output_type": "stream",
     "text": [
      "---------.|.---------\n",
      "------.|..|..|.------\n",
      "---.|..|..|..|..|.---\n",
      "-------WELCOME-------\n",
      "---.|..|..|..|..|.---\n",
      "------.|..|..|.------\n",
      "---------.|.---------\n"
     ]
    }
   ],
   "source": [
    "def create_door_mat(N, M):\n",
    "    center_row = N // 2\n",
    "    center_col = M // 2\n",
    "\n",
    "    for i in range(center_row):\n",
    "        pattern = '.|.' * (2 * i + 1)\n",
    "        print(pattern.center(M, '-'))\n",
    "\n",
    "    print('WELCOME'.center(M, '-'))\n",
    "\n",
    "    for i in range(center_row - 1, -1, -1):\n",
    "        pattern = '.|.' * (2 * i + 1)\n",
    "        print(pattern.center(M, '-'))\n",
    "\n",
    "N = 7  \n",
    "M = 21 \n",
    "create_door_mat(N, M)\n"
   ]
  },
  {
   "cell_type": "code",
   "execution_count": 19,
   "id": "9bb44d03-25ac-4a4c-8a5e-f2e642995899",
   "metadata": {},
   "outputs": [
    {
     "name": "stdout",
     "output_type": "stream",
     "text": [
      "---------------.|.---------------\n",
      "------------.|..|..|.------------\n",
      "---------.|..|..|..|..|.---------\n",
      "------.|..|..|..|..|..|..|.------\n",
      "---.|..|..|..|..|..|..|..|..|.---\n",
      "-------------WELCOME-------------\n",
      "---.|..|..|..|..|..|..|..|..|.---\n",
      "------.|..|..|..|..|..|..|.------\n",
      "---------.|..|..|..|..|.---------\n",
      "------------.|..|..|.------------\n",
      "---------------.|.---------------\n"
     ]
    }
   ],
   "source": [
    "N = 11\n",
    "M = 33\n",
    "create_door_mat(N, M)"
   ]
  },
  {
   "cell_type": "code",
   "execution_count": null,
   "id": "3838a675-20e5-45cb-9e50-9ca21e4506ee",
   "metadata": {},
   "outputs": [],
   "source": []
  }
 ],
 "metadata": {
  "kernelspec": {
   "display_name": "Python 3 (ipykernel)",
   "language": "python",
   "name": "python3"
  },
  "language_info": {
   "codemirror_mode": {
    "name": "ipython",
    "version": 3
   },
   "file_extension": ".py",
   "mimetype": "text/x-python",
   "name": "python",
   "nbconvert_exporter": "python",
   "pygments_lexer": "ipython3",
   "version": "3.11.7"
  }
 },
 "nbformat": 4,
 "nbformat_minor": 5
}
