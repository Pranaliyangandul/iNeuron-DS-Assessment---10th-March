{
 "cells": [
  {
   "cell_type": "code",
   "execution_count": 4,
   "id": "c4d0fdbc-108f-4f3b-aeac-c5026e5b5ad9",
   "metadata": {},
   "outputs": [],
   "source": [
    "def create_door_mat(N, M):\n",
    "    center_row = N // 2\n",
    "    center_col = M // 2\n",
    "\n",
    "    for i in range(center_row):\n",
    "        pattern = '.|.' * (2 * i + 1)\n",
    "        print(pattern.center(M, '-'))\n",
    "\n",
    "    print('WELCOME'.center(M, '-'))\n",
    "\n",
    "    for i in range(center_row - 1, -1, -1):\n",
    "        pattern = '.|.' * (2 * i + 1)\n",
    "        print(pattern.center(M, '-'))\n",
    "\n",
    "\n"
   ]
  },
  {
   "cell_type": "code",
   "execution_count": 5,
   "id": "48ac7304-fb6d-4459-ad5f-1afb1856ceff",
   "metadata": {},
   "outputs": [
    {
     "name": "stdout",
     "output_type": "stream",
     "text": [
      "---------.|.---------\n",
      "------.|..|..|.------\n",
      "---.|..|..|..|..|.---\n",
      "-------WELCOME-------\n",
      "---.|..|..|..|..|.---\n",
      "------.|..|..|.------\n",
      "---------.|.---------\n"
     ]
    }
   ],
   "source": [
    "N = 7  \n",
    "M = 21 \n",
    "create_door_mat(N, M)\n"
   ]
  },
  {
   "cell_type": "code",
   "execution_count": 6,
   "id": "91f0bde6-ec33-42e1-8bef-853dbfa1157e",
   "metadata": {},
   "outputs": [
    {
     "name": "stdout",
     "output_type": "stream",
     "text": [
      "---------------.|.---------------\n",
      "------------.|..|..|.------------\n",
      "---------.|..|..|..|..|.---------\n",
      "------.|..|..|..|..|..|..|.------\n",
      "---.|..|..|..|..|..|..|..|..|.---\n",
      "-------------WELCOME-------------\n",
      "---.|..|..|..|..|..|..|..|..|.---\n",
      "------.|..|..|..|..|..|..|.------\n",
      "---------.|..|..|..|..|.---------\n",
      "------------.|..|..|.------------\n",
      "---------------.|.---------------\n"
     ]
    }
   ],
   "source": [
    "N = 11\n",
    "M = 33\n",
    "create_door_mat(N, M)\n"
   ]
  },
  {
   "cell_type": "code",
   "execution_count": null,
   "id": "196bfad7-01fa-43ac-8027-bdeab617f847",
   "metadata": {},
   "outputs": [],
   "source": []
  }
 ],
 "metadata": {
  "kernelspec": {
   "display_name": "Python 3 (ipykernel)",
   "language": "python",
   "name": "python3"
  },
  "language_info": {
   "codemirror_mode": {
    "name": "ipython",
    "version": 3
   },
   "file_extension": ".py",
   "mimetype": "text/x-python",
   "name": "python",
   "nbconvert_exporter": "python",
   "pygments_lexer": "ipython3",
   "version": "3.11.7"
  }
 },
 "nbformat": 4,
 "nbformat_minor": 5
}
