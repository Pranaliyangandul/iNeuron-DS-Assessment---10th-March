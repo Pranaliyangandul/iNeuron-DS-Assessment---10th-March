{
 "cells": [
  {
   "cell_type": "markdown",
   "id": "5a3cc6e2-1ace-4a13-9eea-e7b433a9c339",
   "metadata": {},
   "source": [
    "\r\n",
    "Train and fine tune a decision tree using the wine dataset by following the following steps:-\r\n",
    "\r\n",
    "  1. Use load_wine() to generate wine dataset\r\n",
    "  2. Split the dataset into train and test  dataset\r\n",
    "  3. Use random search CV to hyperparameter tune the Decision Tree\r\n",
    "  4. Try to achieve an accuracy of at least 85%\r\n",
    "\r\n",
    "\r\n",
    "Grow a random forest using the following steps:-\r\n",
    "\r\n",
    "  1. Continuing the previous question, create 10 subsets of the training dataset. You can use the ShuffleSplit                class for it.\r\n",
    "  2. Train 1 decision tree on each subset, using the best hyperparameter values found in the previous question.\r\n",
    "  3. Evaluate all the trees on the test dataset. Are they performing better than the tree created in the previous question?"
   ]
  },
  {
   "cell_type": "code",
   "execution_count": 211,
   "id": "df570649-eb94-4cba-9be8-120652edfc67",
   "metadata": {},
   "outputs": [],
   "source": [
    "import pandas as pd\n",
    "import numpy as np\n",
    "import matplotlib.pyplot as plt\n",
    "import seaborn as sns\n",
    "from sklearn.datasets import load_wine\n"
   ]
  },
  {
   "cell_type": "code",
   "execution_count": 212,
   "id": "9d29caa9-99e2-41b4-b479-744fa5bf2b71",
   "metadata": {},
   "outputs": [],
   "source": [
    "df=load_wine()"
   ]
  },
  {
   "cell_type": "code",
   "execution_count": 213,
   "id": "36ce650f-c9c2-4657-9bd5-90e05746f58a",
   "metadata": {},
   "outputs": [],
   "source": [
    "X=df.data"
   ]
  },
  {
   "cell_type": "code",
   "execution_count": 214,
   "id": "117395a5-f2ce-4223-8b74-8f71af1a4b9c",
   "metadata": {},
   "outputs": [
    {
     "data": {
      "text/plain": [
       "array([[1.423e+01, 1.710e+00, 2.430e+00, ..., 1.040e+00, 3.920e+00,\n",
       "        1.065e+03],\n",
       "       [1.320e+01, 1.780e+00, 2.140e+00, ..., 1.050e+00, 3.400e+00,\n",
       "        1.050e+03],\n",
       "       [1.316e+01, 2.360e+00, 2.670e+00, ..., 1.030e+00, 3.170e+00,\n",
       "        1.185e+03],\n",
       "       ...,\n",
       "       [1.327e+01, 4.280e+00, 2.260e+00, ..., 5.900e-01, 1.560e+00,\n",
       "        8.350e+02],\n",
       "       [1.317e+01, 2.590e+00, 2.370e+00, ..., 6.000e-01, 1.620e+00,\n",
       "        8.400e+02],\n",
       "       [1.413e+01, 4.100e+00, 2.740e+00, ..., 6.100e-01, 1.600e+00,\n",
       "        5.600e+02]])"
      ]
     },
     "execution_count": 214,
     "metadata": {},
     "output_type": "execute_result"
    }
   ],
   "source": [
    "X"
   ]
  },
  {
   "cell_type": "code",
   "execution_count": 215,
   "id": "ce9234ed-86ea-4ee4-a044-b0a7691dd1d3",
   "metadata": {},
   "outputs": [],
   "source": [
    "y=df.target"
   ]
  },
  {
   "cell_type": "code",
   "execution_count": 216,
   "id": "9be45c4d-6641-4d2d-bd00-df6be598da0e",
   "metadata": {},
   "outputs": [
    {
     "data": {
      "text/plain": [
       "array([0, 0, 0, 0, 0, 0, 0, 0, 0, 0, 0, 0, 0, 0, 0, 0, 0, 0, 0, 0, 0, 0,\n",
       "       0, 0, 0, 0, 0, 0, 0, 0, 0, 0, 0, 0, 0, 0, 0, 0, 0, 0, 0, 0, 0, 0,\n",
       "       0, 0, 0, 0, 0, 0, 0, 0, 0, 0, 0, 0, 0, 0, 0, 1, 1, 1, 1, 1, 1, 1,\n",
       "       1, 1, 1, 1, 1, 1, 1, 1, 1, 1, 1, 1, 1, 1, 1, 1, 1, 1, 1, 1, 1, 1,\n",
       "       1, 1, 1, 1, 1, 1, 1, 1, 1, 1, 1, 1, 1, 1, 1, 1, 1, 1, 1, 1, 1, 1,\n",
       "       1, 1, 1, 1, 1, 1, 1, 1, 1, 1, 1, 1, 1, 1, 1, 1, 1, 1, 1, 1, 2, 2,\n",
       "       2, 2, 2, 2, 2, 2, 2, 2, 2, 2, 2, 2, 2, 2, 2, 2, 2, 2, 2, 2, 2, 2,\n",
       "       2, 2, 2, 2, 2, 2, 2, 2, 2, 2, 2, 2, 2, 2, 2, 2, 2, 2, 2, 2, 2, 2,\n",
       "       2, 2])"
      ]
     },
     "execution_count": 216,
     "metadata": {},
     "output_type": "execute_result"
    }
   ],
   "source": [
    "y"
   ]
  },
  {
   "cell_type": "code",
   "execution_count": 217,
   "id": "a4927de9-523a-4a7b-b2b4-6f505863a910",
   "metadata": {},
   "outputs": [],
   "source": [
    "from sklearn.model_selection import train_test_split\n",
    "\n",
    "X_train,X_test,y_train,y_test= train_test_split(X,y, test_size = 0.3, random_state = 42)"
   ]
  },
  {
   "cell_type": "code",
   "execution_count": 218,
   "id": "52cd0b4f-0e49-4f4c-bc6b-d233c3edbba6",
   "metadata": {},
   "outputs": [],
   "source": [
    "from sklearn.model_selection import RandomizedSearchCV, ShuffleSplit\n",
    "from sklearn.tree import DecisionTreeClassifier\n",
    "from scipy.stats import randint\n"
   ]
  },
  {
   "cell_type": "code",
   "execution_count": 219,
   "id": "772b1fe9-758d-45e4-afc5-fde4f03455ac",
   "metadata": {},
   "outputs": [],
   "source": [
    "param_dist = {\n",
    "    'max_depth': randint(1, 10),\n",
    "    'min_samples_split': randint(2, 20),\n",
    "    'min_samples_leaf': randint(1, 20),\n",
    "    'criterion': ['gini', 'entropy']\n",
    "}\n"
   ]
  },
  {
   "cell_type": "code",
   "execution_count": 220,
   "id": "be971cc4-fb3d-492d-9006-2b61c9f47dcd",
   "metadata": {},
   "outputs": [
    {
     "data": {
      "text/plain": [
       "{'max_depth': <scipy.stats._distn_infrastructure.rv_discrete_frozen at 0x1b77a297c10>,\n",
       " 'min_samples_split': <scipy.stats._distn_infrastructure.rv_discrete_frozen at 0x1b77a2ba2d0>,\n",
       " 'min_samples_leaf': <scipy.stats._distn_infrastructure.rv_discrete_frozen at 0x1b77a2ba390>,\n",
       " 'criterion': ['gini', 'entropy']}"
      ]
     },
     "execution_count": 220,
     "metadata": {},
     "output_type": "execute_result"
    }
   ],
   "source": [
    "param_dist"
   ]
  },
  {
   "cell_type": "code",
   "execution_count": 221,
   "id": "41540b71-faa7-41f3-af2e-139813faf2a3",
   "metadata": {},
   "outputs": [
    {
     "name": "stdout",
     "output_type": "stream",
     "text": [
      "Best Hyperparameters: {'criterion': 'gini', 'max_depth': 9, 'min_samples_leaf': 6, 'min_samples_split': 13}\n"
     ]
    }
   ],
   "source": [
    "tree = DecisionTreeClassifier()\n",
    "random_search = RandomizedSearchCV(tree, param_distributions=param_dist, n_iter=100, cv=5, random_state=42)\n",
    "random_search.fit(X_train, y_train)\n",
    "\n",
    "best_params = random_search.best_params_\n",
    "print(\"Best Hyperparameters:\", best_params)"
   ]
  },
  {
   "cell_type": "code",
   "execution_count": 222,
   "id": "8004a3f5-e13c-4e4d-b95e-a7f4c7917cf8",
   "metadata": {},
   "outputs": [
    {
     "data": {
      "text/html": [
       "<style>#sk-container-id-8 {color: black;background-color: white;}#sk-container-id-8 pre{padding: 0;}#sk-container-id-8 div.sk-toggleable {background-color: white;}#sk-container-id-8 label.sk-toggleable__label {cursor: pointer;display: block;width: 100%;margin-bottom: 0;padding: 0.3em;box-sizing: border-box;text-align: center;}#sk-container-id-8 label.sk-toggleable__label-arrow:before {content: \"▸\";float: left;margin-right: 0.25em;color: #696969;}#sk-container-id-8 label.sk-toggleable__label-arrow:hover:before {color: black;}#sk-container-id-8 div.sk-estimator:hover label.sk-toggleable__label-arrow:before {color: black;}#sk-container-id-8 div.sk-toggleable__content {max-height: 0;max-width: 0;overflow: hidden;text-align: left;background-color: #f0f8ff;}#sk-container-id-8 div.sk-toggleable__content pre {margin: 0.2em;color: black;border-radius: 0.25em;background-color: #f0f8ff;}#sk-container-id-8 input.sk-toggleable__control:checked~div.sk-toggleable__content {max-height: 200px;max-width: 100%;overflow: auto;}#sk-container-id-8 input.sk-toggleable__control:checked~label.sk-toggleable__label-arrow:before {content: \"▾\";}#sk-container-id-8 div.sk-estimator input.sk-toggleable__control:checked~label.sk-toggleable__label {background-color: #d4ebff;}#sk-container-id-8 div.sk-label input.sk-toggleable__control:checked~label.sk-toggleable__label {background-color: #d4ebff;}#sk-container-id-8 input.sk-hidden--visually {border: 0;clip: rect(1px 1px 1px 1px);clip: rect(1px, 1px, 1px, 1px);height: 1px;margin: -1px;overflow: hidden;padding: 0;position: absolute;width: 1px;}#sk-container-id-8 div.sk-estimator {font-family: monospace;background-color: #f0f8ff;border: 1px dotted black;border-radius: 0.25em;box-sizing: border-box;margin-bottom: 0.5em;}#sk-container-id-8 div.sk-estimator:hover {background-color: #d4ebff;}#sk-container-id-8 div.sk-parallel-item::after {content: \"\";width: 100%;border-bottom: 1px solid gray;flex-grow: 1;}#sk-container-id-8 div.sk-label:hover label.sk-toggleable__label {background-color: #d4ebff;}#sk-container-id-8 div.sk-serial::before {content: \"\";position: absolute;border-left: 1px solid gray;box-sizing: border-box;top: 0;bottom: 0;left: 50%;z-index: 0;}#sk-container-id-8 div.sk-serial {display: flex;flex-direction: column;align-items: center;background-color: white;padding-right: 0.2em;padding-left: 0.2em;position: relative;}#sk-container-id-8 div.sk-item {position: relative;z-index: 1;}#sk-container-id-8 div.sk-parallel {display: flex;align-items: stretch;justify-content: center;background-color: white;position: relative;}#sk-container-id-8 div.sk-item::before, #sk-container-id-8 div.sk-parallel-item::before {content: \"\";position: absolute;border-left: 1px solid gray;box-sizing: border-box;top: 0;bottom: 0;left: 50%;z-index: -1;}#sk-container-id-8 div.sk-parallel-item {display: flex;flex-direction: column;z-index: 1;position: relative;background-color: white;}#sk-container-id-8 div.sk-parallel-item:first-child::after {align-self: flex-end;width: 50%;}#sk-container-id-8 div.sk-parallel-item:last-child::after {align-self: flex-start;width: 50%;}#sk-container-id-8 div.sk-parallel-item:only-child::after {width: 0;}#sk-container-id-8 div.sk-dashed-wrapped {border: 1px dashed gray;margin: 0 0.4em 0.5em 0.4em;box-sizing: border-box;padding-bottom: 0.4em;background-color: white;}#sk-container-id-8 div.sk-label label {font-family: monospace;font-weight: bold;display: inline-block;line-height: 1.2em;}#sk-container-id-8 div.sk-label-container {text-align: center;}#sk-container-id-8 div.sk-container {/* jupyter's `normalize.less` sets `[hidden] { display: none; }` but bootstrap.min.css set `[hidden] { display: none !important; }` so we also need the `!important` here to be able to override the default hidden behavior on the sphinx rendered scikit-learn.org. See: https://github.com/scikit-learn/scikit-learn/issues/21755 */display: inline-block !important;position: relative;}#sk-container-id-8 div.sk-text-repr-fallback {display: none;}</style><div id=\"sk-container-id-8\" class=\"sk-top-container\"><div class=\"sk-text-repr-fallback\"><pre>DecisionTreeClassifier(max_depth=9, min_samples_leaf=6, min_samples_split=13)</pre><b>In a Jupyter environment, please rerun this cell to show the HTML representation or trust the notebook. <br />On GitHub, the HTML representation is unable to render, please try loading this page with nbviewer.org.</b></div><div class=\"sk-container\" hidden><div class=\"sk-item\"><div class=\"sk-estimator sk-toggleable\"><input class=\"sk-toggleable__control sk-hidden--visually\" id=\"sk-estimator-id-8\" type=\"checkbox\" checked><label for=\"sk-estimator-id-8\" class=\"sk-toggleable__label sk-toggleable__label-arrow\">DecisionTreeClassifier</label><div class=\"sk-toggleable__content\"><pre>DecisionTreeClassifier(max_depth=9, min_samples_leaf=6, min_samples_split=13)</pre></div></div></div></div></div>"
      ],
      "text/plain": [
       "DecisionTreeClassifier(max_depth=9, min_samples_leaf=6, min_samples_split=13)"
      ]
     },
     "execution_count": 222,
     "metadata": {},
     "output_type": "execute_result"
    }
   ],
   "source": [
    "tree_best = DecisionTreeClassifier(**best_params)\n",
    "tree_best.fit(X_train, y_train)"
   ]
  },
  {
   "cell_type": "code",
   "execution_count": 223,
   "id": "423a9316-69cb-4fa7-ad7f-86da97fef73b",
   "metadata": {},
   "outputs": [],
   "source": [
    "y_pred = tree_best.predict(X_test)"
   ]
  },
  {
   "cell_type": "code",
   "execution_count": 224,
   "id": "42c0b32a-a5fb-4a90-b9ff-1dd3be81a811",
   "metadata": {},
   "outputs": [],
   "source": [
    "from sklearn import metrics"
   ]
  },
  {
   "cell_type": "code",
   "execution_count": 225,
   "id": "788f97d5-f424-42b9-8cc4-2c2670947c7b",
   "metadata": {},
   "outputs": [
    {
     "name": "stdout",
     "output_type": "stream",
     "text": [
      "R2 score :  0.9077973819009675\n"
     ]
    }
   ],
   "source": [
    "print(\"R2 score : \",metrics.r2_score(y_true=y_test,y_pred=y_pred))"
   ]
  },
  {
   "cell_type": "code",
   "execution_count": 226,
   "id": "d524a789-660c-4d0e-8786-09bab9ce37e3",
   "metadata": {},
   "outputs": [
    {
     "name": "stdout",
     "output_type": "stream",
     "text": [
      "MAE :  0.05555555555555555\n",
      "MSE  :  0.05555555555555555\n",
      "RMSR  : 0.23570226039551584\n"
     ]
    }
   ],
   "source": [
    "print(\"MAE : \",metrics.mean_absolute_error(y_test,y_pred))\n",
    "print(\"MSE  : \",metrics.mean_squared_error(y_test,y_pred))\n",
    "print(\"RMSR  :\",np.sqrt(metrics.mean_squared_error(y_test,y_pred)))"
   ]
  },
  {
   "cell_type": "code",
   "execution_count": 227,
   "id": "da1139e3-c388-4a4f-aa95-b9bca966c585",
   "metadata": {},
   "outputs": [
    {
     "name": "stdout",
     "output_type": "stream",
     "text": [
      "Decision Tree Test Accuracy: 0.9444444444444444\n"
     ]
    }
   ],
   "source": [
    "accuracy = metrics.accuracy_score(y_test, y_pred)\n",
    "print(\"Decision Tree Test Accuracy:\", accuracy)"
   ]
  },
  {
   "cell_type": "code",
   "execution_count": 228,
   "id": "c7d0449d-44e5-477c-8af9-9fe6cbd3ba6d",
   "metadata": {},
   "outputs": [],
   "source": [
    "ss = ShuffleSplit(n_splits=10, test_size=0.2, random_state=42)"
   ]
  },
  {
   "cell_type": "code",
   "execution_count": 229,
   "id": "8c3df862-f84a-4acc-ac0e-0e0cb73960ad",
   "metadata": {},
   "outputs": [],
   "source": [
    "forests = []\n",
    "for train_index, _ in rs.split(X_train):\n",
    "    X_subset_train, y_subset_train = X_train[train_index], y_train[train_index]\n",
    "\n",
    "    tree_subset = DecisionTreeClassifier(**best_params)\n",
    "    tree_subset.fit(X_subset_train, y_subset_train)\n",
    "    forests.append(tree_subset)"
   ]
  },
  {
   "cell_type": "code",
   "execution_count": 230,
   "id": "66aa8783-393f-4141-9d1b-e05ebdb85586",
   "metadata": {},
   "outputs": [],
   "source": [
    "forest_preds = []\n",
    "for tree in forests:\n",
    "    y_pred = tree.predict(X_test)\n",
    "    forest_preds.append(y_pred)"
   ]
  },
  {
   "cell_type": "code",
   "execution_count": 231,
   "id": "72522421-803a-4a2b-b5d4-d604159f965e",
   "metadata": {},
   "outputs": [
    {
     "data": {
      "text/plain": [
       "[array([0, 0, 2, 0, 1, 0, 1, 2, 1, 2, 1, 2, 0, 1, 0, 1, 1, 1, 0, 1, 0, 1,\n",
       "        1, 2, 2, 2, 1, 1, 1, 0, 0, 1, 2, 0, 0, 0, 2, 2, 1, 2, 1, 1, 1, 1,\n",
       "        2, 0, 1, 1, 2, 0, 1, 0, 0, 2]),\n",
       " array([0, 0, 2, 0, 1, 0, 1, 2, 1, 2, 1, 1, 0, 1, 0, 1, 1, 1, 0, 1, 0, 1,\n",
       "        1, 2, 2, 2, 1, 1, 1, 0, 0, 1, 2, 0, 0, 0, 2, 2, 1, 2, 1, 1, 1, 1,\n",
       "        2, 0, 1, 1, 2, 0, 1, 0, 0, 2]),\n",
       " array([0, 0, 2, 0, 1, 0, 1, 2, 1, 2, 1, 0, 0, 1, 0, 1, 1, 1, 0, 1, 0, 0,\n",
       "        1, 2, 2, 2, 1, 1, 1, 0, 0, 1, 2, 0, 0, 0, 2, 2, 1, 2, 1, 1, 1, 1,\n",
       "        2, 0, 1, 1, 2, 0, 0, 0, 0, 2]),\n",
       " array([0, 0, 2, 0, 1, 0, 1, 2, 1, 2, 1, 1, 0, 1, 0, 1, 1, 1, 0, 1, 0, 1,\n",
       "        1, 2, 2, 2, 1, 1, 1, 0, 0, 1, 2, 0, 0, 0, 2, 2, 1, 2, 1, 1, 1, 1,\n",
       "        2, 0, 1, 1, 2, 0, 1, 0, 0, 2]),\n",
       " array([0, 0, 2, 0, 1, 0, 1, 2, 1, 2, 0, 1, 0, 1, 0, 1, 1, 1, 0, 1, 0, 1,\n",
       "        1, 2, 2, 2, 1, 1, 1, 0, 0, 1, 2, 0, 0, 0, 2, 2, 1, 2, 0, 1, 1, 1,\n",
       "        2, 0, 1, 1, 2, 0, 1, 0, 0, 2]),\n",
       " array([0, 0, 2, 0, 1, 0, 1, 2, 1, 2, 1, 1, 0, 1, 0, 1, 1, 1, 0, 1, 0, 1,\n",
       "        1, 2, 2, 2, 1, 1, 1, 0, 0, 1, 2, 0, 0, 0, 2, 2, 1, 2, 1, 1, 1, 1,\n",
       "        2, 0, 1, 1, 2, 0, 1, 0, 0, 2]),\n",
       " array([0, 0, 0, 0, 1, 0, 1, 2, 1, 0, 0, 2, 0, 1, 0, 1, 1, 1, 0, 1, 0, 0,\n",
       "        1, 2, 2, 2, 1, 1, 1, 0, 0, 1, 1, 0, 0, 0, 2, 2, 1, 2, 0, 1, 1, 1,\n",
       "        1, 0, 1, 1, 2, 0, 0, 0, 0, 2]),\n",
       " array([0, 0, 2, 0, 1, 0, 1, 2, 1, 2, 1, 1, 0, 1, 0, 1, 1, 1, 0, 1, 0, 1,\n",
       "        1, 2, 2, 2, 1, 1, 1, 0, 0, 1, 2, 0, 0, 0, 2, 2, 1, 2, 1, 1, 1, 1,\n",
       "        2, 0, 1, 1, 2, 0, 1, 0, 0, 2]),\n",
       " array([0, 0, 2, 0, 0, 0, 1, 2, 1, 2, 0, 2, 0, 1, 0, 1, 1, 1, 0, 1, 0, 0,\n",
       "        1, 2, 2, 2, 1, 0, 1, 0, 0, 1, 2, 0, 0, 0, 2, 2, 0, 2, 0, 1, 1, 1,\n",
       "        2, 0, 1, 1, 2, 0, 0, 0, 0, 2]),\n",
       " array([0, 0, 0, 0, 0, 0, 1, 2, 1, 0, 1, 2, 0, 2, 0, 1, 1, 1, 0, 1, 0, 0,\n",
       "        2, 2, 2, 2, 1, 0, 1, 0, 0, 1, 2, 0, 0, 0, 2, 2, 0, 2, 1, 1, 1, 2,\n",
       "        2, 0, 1, 1, 2, 0, 0, 0, 0, 2])]"
      ]
     },
     "execution_count": 231,
     "metadata": {},
     "output_type": "execute_result"
    }
   ],
   "source": [
    "forest_preds"
   ]
  },
  {
   "cell_type": "code",
   "execution_count": 232,
   "id": "31a1288f-8672-475c-b157-d192679dd57f",
   "metadata": {},
   "outputs": [],
   "source": [
    "forest_accuracies = [metrics.accuracy_score(y_test, y_pred) for y_pred in forest_preds]\n"
   ]
  },
  {
   "cell_type": "code",
   "execution_count": 233,
   "id": "740b907f-292c-4ed7-b240-7fb5cd659874",
   "metadata": {},
   "outputs": [
    {
     "data": {
      "text/plain": [
       "[0.9629629629629629,\n",
       " 0.9444444444444444,\n",
       " 0.9074074074074074,\n",
       " 0.9444444444444444,\n",
       " 0.9814814814814815,\n",
       " 0.9444444444444444,\n",
       " 0.8888888888888888,\n",
       " 0.9444444444444444,\n",
       " 0.9074074074074074,\n",
       " 0.7777777777777778]"
      ]
     },
     "execution_count": 233,
     "metadata": {},
     "output_type": "execute_result"
    }
   ],
   "source": [
    "forest_accuracies"
   ]
  },
  {
   "cell_type": "code",
   "execution_count": 234,
   "id": "ee137b7e-9c91-4e4d-b7ca-bdf2dd0bf0ac",
   "metadata": {},
   "outputs": [
    {
     "name": "stdout",
     "output_type": "stream",
     "text": [
      "Tree 1 Test Accuracy: 0.9629629629629629\n",
      "Tree 2 Test Accuracy: 0.9444444444444444\n",
      "Tree 3 Test Accuracy: 0.9074074074074074\n",
      "Tree 4 Test Accuracy: 0.9444444444444444\n",
      "Tree 5 Test Accuracy: 0.9814814814814815\n",
      "Tree 6 Test Accuracy: 0.9444444444444444\n",
      "Tree 7 Test Accuracy: 0.8888888888888888\n",
      "Tree 8 Test Accuracy: 0.9444444444444444\n",
      "Tree 9 Test Accuracy: 0.9074074074074074\n",
      "Tree 10 Test Accuracy: 0.7777777777777778\n"
     ]
    }
   ],
   "source": [
    "for i, acc in enumerate(forest_accuracies):\n",
    "    print(f\"Tree {i+1} Test Accuracy:\", acc)"
   ]
  },
  {
   "cell_type": "code",
   "execution_count": 235,
   "id": "a33b10eb-4648-4ed3-9263-a962805cc6cf",
   "metadata": {},
   "outputs": [],
   "source": [
    "avg_forest_accuracy = sum(forest_accuracies) / len(forest_accuracies)\n"
   ]
  },
  {
   "cell_type": "code",
   "execution_count": 236,
   "id": "525c5006-4407-4955-a96b-74d149a8e333",
   "metadata": {},
   "outputs": [
    {
     "data": {
      "text/plain": [
       "0.9203703703703706"
      ]
     },
     "execution_count": 236,
     "metadata": {},
     "output_type": "execute_result"
    }
   ],
   "source": [
    "avg_forest_accuracy"
   ]
  },
  {
   "cell_type": "code",
   "execution_count": 237,
   "id": "8da630e6-904c-4ded-a1a8-242732ad5737",
   "metadata": {},
   "outputs": [
    {
     "name": "stdout",
     "output_type": "stream",
     "text": [
      "Decision Tree Test Accuracy: 0.9444444444444444\n",
      "Average Random Forest Test Accuracy: 0.9203703703703706\n"
     ]
    }
   ],
   "source": [
    "print(\"Decision Tree Test Accuracy:\", accuracy)\n",
    "print(\"Average Random Forest Test Accuracy:\", avg_forest_accuracy)"
   ]
  },
  {
   "cell_type": "code",
   "execution_count": 238,
   "id": "4ad88b08-cfaa-4ec6-ab64-efeea503f5e6",
   "metadata": {},
   "outputs": [
    {
     "name": "stdout",
     "output_type": "stream",
     "text": [
      "Decision Tree performs better than the Random Forest.\n"
     ]
    }
   ],
   "source": [
    "if avg_forest_accuracy > accuracy:\n",
    "    print(\"Random Forest performs better than the Decision Tree.\")\n",
    "else:\n",
    "    print(\"Decision Tree performs better than the Random Forest.\")"
   ]
  }
 ],
 "metadata": {
  "kernelspec": {
   "display_name": "Python 3 (ipykernel)",
   "language": "python",
   "name": "python3"
  },
  "language_info": {
   "codemirror_mode": {
    "name": "ipython",
    "version": 3
   },
   "file_extension": ".py",
   "mimetype": "text/x-python",
   "name": "python",
   "nbconvert_exporter": "python",
   "pygments_lexer": "ipython3",
   "version": "3.11.7"
  }
 },
 "nbformat": 4,
 "nbformat_minor": 5
}
