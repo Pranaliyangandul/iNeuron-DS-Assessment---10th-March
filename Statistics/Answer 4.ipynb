{
 "cells": [
  {
   "cell_type": "markdown",
   "id": "78fdf65c-f06f-4227-9a0a-a7bc6e75b4e5",
   "metadata": {},
   "source": [
    "Correlation measures the strength and direction of the relationship between two variables. A positive correlation indicates that as one variable increases, the other variable tends to increase as well. A negative correlation indicates that as one variable increases, the other variable tends to decrease. A correlation value of 0 indicates no linear relationship between the variables."
   ]
  },
  {
   "cell_type": "code",
   "execution_count": 1,
   "id": "44bc9900-5283-4859-9d14-80d5ddb5e7c3",
   "metadata": {},
   "outputs": [],
   "source": [
    "import numpy as np\n",
    "import pandas as pd\n",
    "import matplotlib.pyplot as plt\n",
    "import seaborn as sns"
   ]
  },
  {
   "cell_type": "code",
   "execution_count": 2,
   "id": "511d629b-4d70-4bf9-92b8-733ab3724304",
   "metadata": {},
   "outputs": [],
   "source": [
    "x = np.random.normal(0, 1, 100)  \n",
    "y = 2 * x + np.random.normal(0, 1, 100)  "
   ]
  },
  {
   "cell_type": "code",
   "execution_count": 3,
   "id": "3aad0714-08e8-4ad3-9951-953b084bc707",
   "metadata": {},
   "outputs": [],
   "source": [
    "df = pd.DataFrame({'X': x, 'Y': y})"
   ]
  },
  {
   "cell_type": "code",
   "execution_count": 4,
   "id": "10511a83-5bf8-4b7a-a67b-558f1bce28a7",
   "metadata": {},
   "outputs": [
    {
     "data": {
      "text/html": [
       "<div>\n",
       "<style scoped>\n",
       "    .dataframe tbody tr th:only-of-type {\n",
       "        vertical-align: middle;\n",
       "    }\n",
       "\n",
       "    .dataframe tbody tr th {\n",
       "        vertical-align: top;\n",
       "    }\n",
       "\n",
       "    .dataframe thead th {\n",
       "        text-align: right;\n",
       "    }\n",
       "</style>\n",
       "<table border=\"1\" class=\"dataframe\">\n",
       "  <thead>\n",
       "    <tr style=\"text-align: right;\">\n",
       "      <th></th>\n",
       "      <th>X</th>\n",
       "      <th>Y</th>\n",
       "    </tr>\n",
       "  </thead>\n",
       "  <tbody>\n",
       "    <tr>\n",
       "      <th>0</th>\n",
       "      <td>1.208554</td>\n",
       "      <td>2.594684</td>\n",
       "    </tr>\n",
       "    <tr>\n",
       "      <th>1</th>\n",
       "      <td>-1.918290</td>\n",
       "      <td>-4.800641</td>\n",
       "    </tr>\n",
       "    <tr>\n",
       "      <th>2</th>\n",
       "      <td>-0.337612</td>\n",
       "      <td>-0.143169</td>\n",
       "    </tr>\n",
       "    <tr>\n",
       "      <th>3</th>\n",
       "      <td>-0.617264</td>\n",
       "      <td>-0.031936</td>\n",
       "    </tr>\n",
       "    <tr>\n",
       "      <th>4</th>\n",
       "      <td>-0.508467</td>\n",
       "      <td>-0.474423</td>\n",
       "    </tr>\n",
       "    <tr>\n",
       "      <th>...</th>\n",
       "      <td>...</td>\n",
       "      <td>...</td>\n",
       "    </tr>\n",
       "    <tr>\n",
       "      <th>95</th>\n",
       "      <td>0.018111</td>\n",
       "      <td>-0.936940</td>\n",
       "    </tr>\n",
       "    <tr>\n",
       "      <th>96</th>\n",
       "      <td>1.631436</td>\n",
       "      <td>4.395648</td>\n",
       "    </tr>\n",
       "    <tr>\n",
       "      <th>97</th>\n",
       "      <td>-0.028927</td>\n",
       "      <td>0.115582</td>\n",
       "    </tr>\n",
       "    <tr>\n",
       "      <th>98</th>\n",
       "      <td>-0.268854</td>\n",
       "      <td>-0.694872</td>\n",
       "    </tr>\n",
       "    <tr>\n",
       "      <th>99</th>\n",
       "      <td>2.089496</td>\n",
       "      <td>4.790026</td>\n",
       "    </tr>\n",
       "  </tbody>\n",
       "</table>\n",
       "<p>100 rows × 2 columns</p>\n",
       "</div>"
      ],
      "text/plain": [
       "           X         Y\n",
       "0   1.208554  2.594684\n",
       "1  -1.918290 -4.800641\n",
       "2  -0.337612 -0.143169\n",
       "3  -0.617264 -0.031936\n",
       "4  -0.508467 -0.474423\n",
       "..       ...       ...\n",
       "95  0.018111 -0.936940\n",
       "96  1.631436  4.395648\n",
       "97 -0.028927  0.115582\n",
       "98 -0.268854 -0.694872\n",
       "99  2.089496  4.790026\n",
       "\n",
       "[100 rows x 2 columns]"
      ]
     },
     "execution_count": 4,
     "metadata": {},
     "output_type": "execute_result"
    }
   ],
   "source": [
    "df"
   ]
  },
  {
   "cell_type": "code",
   "execution_count": 5,
   "id": "837a3956-6dd7-41a5-a94c-45ea21a832af",
   "metadata": {},
   "outputs": [
    {
     "data": {
      "text/html": [
       "<div>\n",
       "<style scoped>\n",
       "    .dataframe tbody tr th:only-of-type {\n",
       "        vertical-align: middle;\n",
       "    }\n",
       "\n",
       "    .dataframe tbody tr th {\n",
       "        vertical-align: top;\n",
       "    }\n",
       "\n",
       "    .dataframe thead th {\n",
       "        text-align: right;\n",
       "    }\n",
       "</style>\n",
       "<table border=\"1\" class=\"dataframe\">\n",
       "  <thead>\n",
       "    <tr style=\"text-align: right;\">\n",
       "      <th></th>\n",
       "      <th>X</th>\n",
       "      <th>Y</th>\n",
       "    </tr>\n",
       "  </thead>\n",
       "  <tbody>\n",
       "    <tr>\n",
       "      <th>X</th>\n",
       "      <td>1.000000</td>\n",
       "      <td>0.900033</td>\n",
       "    </tr>\n",
       "    <tr>\n",
       "      <th>Y</th>\n",
       "      <td>0.900033</td>\n",
       "      <td>1.000000</td>\n",
       "    </tr>\n",
       "  </tbody>\n",
       "</table>\n",
       "</div>"
      ],
      "text/plain": [
       "          X         Y\n",
       "X  1.000000  0.900033\n",
       "Y  0.900033  1.000000"
      ]
     },
     "execution_count": 5,
     "metadata": {},
     "output_type": "execute_result"
    }
   ],
   "source": [
    "df.corr()"
   ]
  },
  {
   "cell_type": "code",
   "execution_count": 6,
   "id": "a2fa0e4b-1179-4f4a-ba69-c156e336f2b0",
   "metadata": {},
   "outputs": [
    {
     "name": "stdout",
     "output_type": "stream",
     "text": [
      "Correlation coefficient between X and Y: 0.9000333096127959\n"
     ]
    },
    {
     "data": {
      "image/png": "[encoded data removed]",
      "text/plain": [
       "<Figure size 800x600 with 1 Axes>"
      ]
     },
     "metadata": {},
     "output_type": "display_data"
    }
   ],
   "source": [
    "\n",
    "# Calculating correlation coefficient\n",
    "correlation_coefficient = df['X'].corr(df['Y'])\n",
    "print(\"Correlation coefficient between X and Y:\", correlation_coefficient)\n",
    "\n",
    "# Plotting the scatter plot\n",
    "plt.figure(figsize=(8, 6))\n",
    "sns.scatterplot(x='X', y='Y', data=df)\n",
    "plt.title('Scatter Plot of X vs Y')\n",
    "plt.xlabel('X')\n",
    "plt.ylabel('Y')\n",
    "plt.grid(True)\n",
    "plt.show()"
   ]
  },
  {
   "cell_type": "code",
   "execution_count": 7,
   "id": "34e94a9d-3ac2-4db7-a6a2-1de623bc67d5",
   "metadata": {},
   "outputs": [],
   "source": [
    "x_neg = np.random.normal(0, 1, 100)  \n",
    "y_neg = -2 * x_neg + np.random.normal(0, 1, 100)  \n",
    "\n",
    "# Creating DataFrame\n",
    "df_neg = pd.DataFrame({'X': x_neg, 'Y': y_neg})"
   ]
  },
  {
   "cell_type": "code",
   "execution_count": 8,
   "id": "e03cdf4e-f453-4c9f-b0d2-c5a4e11ccb06",
   "metadata": {},
   "outputs": [
    {
     "name": "stdout",
     "output_type": "stream",
     "text": [
      "Correlation coefficient between X and Y for negative correlation: -0.9301088098764597\n"
     ]
    }
   ],
   "source": [
    "correlation_coefficient_neg = df_neg['X'].corr(df_neg['Y'])\n",
    "print(\"Correlation coefficient between X and Y for negative correlation:\", correlation_coefficient_neg)"
   ]
  },
  {
   "cell_type": "code",
   "execution_count": 9,
   "id": "418bbca2-36e6-4570-86c9-831ef14e1023",
   "metadata": {},
   "outputs": [
    {
     "data": {
      "image/png": "[encoded data removed]",
      "text/plain": [
       "<Figure size 800x600 with 1 Axes>"
      ]
     },
     "metadata": {},
     "output_type": "display_data"
    }
   ],
   "source": [
    "plt.figure(figsize=(8, 6))\n",
    "sns.scatterplot(x='X', y='Y', data=df_neg)\n",
    "plt.title('Scatter Plot of X vs Y (Negative Correlation)')\n",
    "plt.xlabel('X')\n",
    "plt.ylabel('Y')\n",
    "plt.grid(True)\n",
    "plt.show()"
   ]
  },
  {
   "cell_type": "code",
   "execution_count": null,
   "id": "ccc27a08-4c10-41c1-9ee5-169e1095fb24",
   "metadata": {},
   "outputs": [],
   "source": []
  }
 ],
 "metadata": {
  "kernelspec": {
   "display_name": "Python 3 (ipykernel)",
   "language": "python",
   "name": "python3"
  },
  "language_info": {
   "codemirror_mode": {
    "name": "ipython",
    "version": 3
   },
   "file_extension": ".py",
   "mimetype": "text/x-python",
   "name": "python",
   "nbconvert_exporter": "python",
   "pygments_lexer": "ipython3",
   "version": "3.11.7"
  }
 },
 "nbformat": 4,
 "nbformat_minor": 5
}
